{
 "cells": [
  {
   "cell_type": "code",
   "execution_count": 1,
   "id": "203a5190",
   "metadata": {},
   "outputs": [],
   "source": [
    "import pandas as pd\n",
    "import re"
   ]
  },
  {
   "cell_type": "code",
   "execution_count": null,
   "id": "ab94ed6d",
   "metadata": {},
   "outputs": [],
   "source": [
    "rent_csv_file = 'renttherunway_final_data.csv' \n",
    "# mete_csv_file = 'modcloth_final_data.csv' \n",
    "\n",
    "rent_data = pd.read_csv(rent_csv_file)\n",
    "# mete_data = pd.read_csv(mete_csv_file)"
   ]
  },
  {
   "cell_type": "code",
   "execution_count": null,
   "id": "fafd0043",
   "metadata": {},
   "outputs": [],
   "source": [
    "def height_to_cm(height):\n",
    "    if not isinstance(height, str): \n",
    "        return None \n",
    "    match = re.match(r\"(\\d+)' (\\d+)\\\"\", height)\n",
    "    if match:\n",
    "        feet = int(match.group(1)) \n",
    "        inches = int(match.group(2)) \n",
    "        return feet * 30.48 + inches * 2.54\n",
    "    else:\n",
    "        return None"
   ]
  },
  {
   "cell_type": "code",
   "execution_count": null,
   "id": "ab1534c4",
   "metadata": {},
   "outputs": [],
   "source": [
    "rent_data['height_cm'] = rent_data['height'].apply(height_to_cm)\n",
    "rent_data['weight_kg'] = rent_data['weight'].str.replace('lbs', '').astype(float) * 0.453592"
   ]
  },
  {
   "cell_type": "code",
   "execution_count": null,
   "id": "bb41ebc3",
   "metadata": {},
   "outputs": [],
   "source": [
    "columns_to_fill = ['height_cm', 'weight_kg']  \n",
    "for col in columns_to_fill:\n",
    "    mean_value = rent_data[col].mean()  \n",
    "    rent_data[col] = rent_data[col].fillna(mean_value)  \n",
    "    \n"
   ]
  },
  {
   "cell_type": "code",
   "execution_count": null,
   "id": "61161074",
   "metadata": {},
   "outputs": [],
   "source": [
    "fit_counts = rent_data['fit'].value_counts()"
   ]
  },
  {
   "cell_type": "code",
   "execution_count": null,
   "id": "5043ec75",
   "metadata": {},
   "outputs": [],
   "source": [
    "target_size_large = fit_counts['large']\n",
    "\n",
    "\n",
    "small_data_adjusted = rent_data[rent_data['fit'] == 'small'].sample(n=target_size_large, random_state=42, replace=False)\n",
    "fit_data_adjusted = rent_data[rent_data['fit'] == 'fit'].sample(n=target_size_large, random_state=42, replace=False)\n",
    "large_data_adjusted = rent_data[rent_data['fit'] == 'large']\n",
    "\n",
    "\n",
    "balanced_data_adjusted = pd.concat([small_data_adjusted, fit_data_adjusted, large_data_adjusted])\n",
    "\n",
    "\n",
    "balanced_data_adjusted = balanced_data_adjusted.sample(frac=1, random_state=42).reset_index(drop=True)\n",
    "\n",
    "# Save the adjusted balanced dataset to a new CSV file for review\n",
    "adjusted_output_file_path = 'renttherunway_adjusted_balanced_data.csv'\n",
    "\n",
    "\n",
    "adjusted_output_file_path\n"
   ]
  },
  {
   "cell_type": "code",
   "execution_count": null,
   "id": "a64fa58e",
   "metadata": {},
   "outputs": [],
   "source": [
    "data = pd.read_csv('data/renttherunway_adjusted_balanced_data.csv')"
   ]
  },
  {
   "cell_type": "code",
   "execution_count": null,
   "id": "a43f9579",
   "metadata": {},
   "outputs": [],
   "source": [
    "data['fit'].value_counts()"
   ]
  }
 ],
 "metadata": {
  "kernelspec": {
   "display_name": "Python 3 (ipykernel)",
   "language": "python",
   "name": "python3"
  },
  "language_info": {
   "codemirror_mode": {
    "name": "ipython",
    "version": 3
   },
   "file_extension": ".py",
   "mimetype": "text/x-python",
   "name": "python",
   "nbconvert_exporter": "python",
   "pygments_lexer": "ipython3",
   "version": "3.11.5"
  }
 },
 "nbformat": 4,
 "nbformat_minor": 5
}
