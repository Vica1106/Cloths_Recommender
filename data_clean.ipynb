{
 "cells": [
  {
   "cell_type": "code",
   "execution_count": 1,
   "id": "203a5190",
   "metadata": {},
   "outputs": [],
   "source": [
    "import pandas as pd\n",
    "import re\n",
    "import matplotlib.pyplot as plt\n",
    "import seaborn as sns\n",
    "import numpy as np"
   ]
  },
  {
   "cell_type": "code",
   "execution_count": 2,
   "id": "ab94ed6d",
   "metadata": {},
   "outputs": [],
   "source": [
    "rent_csv_file = './data/renttherunway_final_data.csv' \n",
    "# mete_csv_file = 'modcloth_final_data.csv' \n",
    "\n",
    "rent_data = pd.read_csv(rent_csv_file)\n",
    "# mete_data = pd.read_csv(mete_csv_file)"
   ]
  },
  {
   "cell_type": "code",
   "execution_count": 3,
   "id": "fafd0043",
   "metadata": {},
   "outputs": [],
   "source": [
    "def height_to_cm(height):\n",
    "    if not isinstance(height, str): \n",
    "        return None \n",
    "    match = re.match(r\"(\\d+)' (\\d+)\\\"\", height)\n",
    "    if match:\n",
    "        feet = int(match.group(1)) \n",
    "        inches = int(match.group(2)) \n",
    "        return feet * 30.48 + inches * 2.54\n",
    "    else:\n",
    "        return None"
   ]
  },
  {
   "cell_type": "markdown",
   "id": "b2e14c47",
   "metadata": {},
   "source": [
    "convert height, weight. Using mean fill nan."
   ]
  },
  {
   "cell_type": "code",
   "execution_count": 4,
   "id": "ab1534c4",
   "metadata": {},
   "outputs": [],
   "source": [
    "rent_data['height_cm'] = rent_data['height'].apply(height_to_cm)\n",
    "rent_data['weight_kg'] = rent_data['weight'].str.replace('lbs', '').astype(float) * 0.453592"
   ]
  },
  {
   "cell_type": "code",
   "execution_count": 5,
   "id": "bb41ebc3",
   "metadata": {},
   "outputs": [],
   "source": [
    "columns_to_fill = ['height_cm', 'weight_kg']  \n",
    "for col in columns_to_fill:\n",
    "    mean_value = rent_data[col].mean()  \n",
    "    rent_data[col] = rent_data[col].fillna(mean_value)  "
   ]
  },
  {
   "cell_type": "markdown",
   "id": "f3cbc8bb",
   "metadata": {},
   "source": [
    "change clothing size by sort out extreme value, using 98% of the clothing size"
   ]
  },
  {
   "cell_type": "code",
   "execution_count": 6,
   "id": "a8026237",
   "metadata": {},
   "outputs": [],
   "source": [
    "threshold = rent_data['size'].quantile(0.98)\n",
    "df1 = rent_data[rent_data['size'] <= threshold]"
   ]
  },
  {
   "cell_type": "code",
   "execution_count": 7,
   "id": "65cbfbb8",
   "metadata": {},
   "outputs": [],
   "source": [
    "# def plot_combined_distributions(data_full, data_filtered):\n",
    "#     fig, axes = plt.subplots(1, 2, figsize=(16, 6), sharey=True)\n",
    "\n",
    "#     # Full data distribution\n",
    "#     sns.countplot(ax=axes[0], x='size', data=data_full, order=sorted(data_full['size'].unique()))\n",
    "#     axes[0].set_xlabel('Clothing Size')\n",
    "#     axes[0].set_ylabel('Count')\n",
    "#     axes[0].set_title('Full Distribution of Clothing Size')\n",
    "#     axes[0].axvline(x=np.percentile(data_full['size'], 98), color='red', linestyle='--', label='98th Percentile')\n",
    "#     axes[0].legend()\n",
    "#     axes[0].tick_params(axis='x', rotation=45)\n",
    "\n",
    "#     # Filtered data distribution\n",
    "#     sns.countplot(ax=axes[1], x='size', data=data_filtered, order=sorted(data_filtered['size'].unique()))\n",
    "#     axes[1].set_xlabel('Clothing Size')\n",
    "#     axes[1].set_title('Filtered Distribution of Clothing Size (<= 98th Percentile)')\n",
    "#     axes[1].tick_params(axis='x', rotation=45)\n",
    "    \n",
    "    \n",
    "#     # Adjust layout\n",
    "#     plt.tight_layout()\n",
    "#     plt.savefig('Clothing_size.png')\n",
    "    \n",
    "#     plt.show()\n",
    "\n",
    "# # Plot\n",
    "# plot_combined_distributions(rent_data, df1)"
   ]
  },
  {
   "cell_type": "markdown",
   "id": "a7fd8ed4",
   "metadata": {},
   "source": [
    "drop nan on body type"
   ]
  },
  {
   "cell_type": "code",
   "execution_count": 8,
   "id": "4b103d48",
   "metadata": {},
   "outputs": [],
   "source": [
    "rent_data= df1.dropna(subset=['body type'])"
   ]
  },
  {
   "cell_type": "markdown",
   "id": "fa1b5209",
   "metadata": {},
   "source": [
    "balanced the data"
   ]
  },
  {
   "cell_type": "code",
   "execution_count": 9,
   "id": "61161074",
   "metadata": {},
   "outputs": [
    {
     "data": {
      "text/plain": [
       "fit\n",
       "fit      128856\n",
       "small     23182\n",
       "large     22606\n",
       "Name: count, dtype: int64"
      ]
     },
     "execution_count": 9,
     "metadata": {},
     "output_type": "execute_result"
    }
   ],
   "source": [
    "fit_counts = rent_data['fit'].value_counts()\n",
    "fit_counts "
   ]
  },
  {
   "cell_type": "code",
   "execution_count": 10,
   "id": "5043ec75",
   "metadata": {},
   "outputs": [],
   "source": [
    "target_size_large = fit_counts['large']\n",
    "\n",
    "\n",
    "small_data_adjusted = rent_data[rent_data['fit'] == 'small'].sample(n=target_size_large, random_state=42, replace=False)\n",
    "fit_data_adjusted = rent_data[rent_data['fit'] == 'fit'].sample(n=target_size_large, random_state=42, replace=False)\n",
    "large_data_adjusted = rent_data[rent_data['fit'] == 'large']\n",
    "\n",
    "\n",
    "balanced_data_adjusted = pd.concat([small_data_adjusted, fit_data_adjusted, large_data_adjusted])\n",
    "\n",
    "\n",
    "balanced_data_adjusted = balanced_data_adjusted.sample(frac=1, random_state=42).reset_index(drop=True)"
   ]
  },
  {
   "cell_type": "markdown",
   "id": "d211f922",
   "metadata": {},
   "source": [
    "Drop useless column"
   ]
  },
  {
   "cell_type": "code",
   "execution_count": 11,
   "id": "ad1a6663",
   "metadata": {},
   "outputs": [],
   "source": [
    "df = balanced_data_adjusted.drop(\n",
    "    columns=['bust size', 'weight', 'rented for', 'review_text', 'category', 'height', 'age', 'review_date']\n",
    ")"
   ]
  },
  {
   "cell_type": "markdown",
   "id": "af2b4f2d",
   "metadata": {},
   "source": [
    "ADD BMI feature"
   ]
  },
  {
   "cell_type": "code",
   "execution_count": 12,
   "id": "79f304ad",
   "metadata": {},
   "outputs": [],
   "source": [
    "df['height_m'] = df['height_cm'] / 100\n",
    "df['BMI'] = df['weight_kg'] / (df['height_m'] ** 2)\n",
    "df.drop(columns=['height_m'], inplace=True)"
   ]
  },
  {
   "cell_type": "markdown",
   "id": "3d4176dc",
   "metadata": {},
   "source": [
    "add bmi label"
   ]
  },
  {
   "cell_type": "code",
   "execution_count": 13,
   "id": "b939c442",
   "metadata": {},
   "outputs": [],
   "source": [
    "def categorize_bmi(bmi):\n",
    "    if bmi < 18.5:\n",
    "        return \"Underweight\"\n",
    "    elif 18.5 <= bmi <= 23.9:\n",
    "        return \"Normal weight\"\n",
    "    elif 24 <= bmi <= 27.9:\n",
    "        return \"Overweight\"\n",
    "    elif 28 <= bmi <= 30:\n",
    "        return \"Obese Class I\"\n",
    "    elif 30 < bmi <= 35:\n",
    "        return \"Obese Class II\"\n",
    "    else:\n",
    "        return \"Obese Class III\"\n",
    "\n",
    "df['BMI_Range'] = df['BMI'].apply(categorize_bmi)"
   ]
  },
  {
   "cell_type": "code",
   "execution_count": 15,
   "id": "408f3669",
   "metadata": {},
   "outputs": [],
   "source": [
    "df.to_csv('./data/cleaned_data.csv', index=False)"
   ]
  },
  {
   "cell_type": "code",
   "execution_count": null,
   "id": "2adb15f9",
   "metadata": {},
   "outputs": [],
   "source": []
  }
 ],
 "metadata": {
  "kernelspec": {
   "display_name": "Python 3 (ipykernel)",
   "language": "python",
   "name": "python3"
  },
  "language_info": {
   "codemirror_mode": {
    "name": "ipython",
    "version": 3
   },
   "file_extension": ".py",
   "mimetype": "text/x-python",
   "name": "python",
   "nbconvert_exporter": "python",
   "pygments_lexer": "ipython3",
   "version": "3.11.5"
  }
 },
 "nbformat": 4,
 "nbformat_minor": 5
}
